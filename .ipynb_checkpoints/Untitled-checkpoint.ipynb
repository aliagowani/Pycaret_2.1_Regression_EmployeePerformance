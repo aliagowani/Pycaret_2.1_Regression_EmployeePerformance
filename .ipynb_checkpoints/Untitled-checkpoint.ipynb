{
 "cells": [
  {
   "cell_type": "markdown",
   "metadata": {},
   "source": [
    "Name: Ali Gowani<br>\n",
    "Contact: https://www.linkedin.com/in/aliagowani/<br><br>\n",
    "\n",
    "Title: Regression Experiment for Intelligent Contact Center Employee performance<br>\n",
    "Pycaret Version: 2.1<br><br>\n",
    "Created: Monday, August 24, 2020 <br>\n",
    "Updated: Thursday, September 3, 2020 <br>\n",
    "<br>\n",
    "\n",
    "# 0. Overview: Real-Life Employee Performance Case in Machine Learning (Regression) using Pycaret 2.1\n",
    "\n",
    "We are going to utilize a low-code Machine Learning Python library, Pycaret (version 2.1), to predict the First Call Resolution (FCR) metric for Customer Service Agents (Employees) in Call Centers. FCR is an important metric in a call center as it indicates the percentage of issues that were resolved when the customer called the first time. We want to ensure that customers do not keep calling back to resolve an issue as it costs the company money when the issue is not resolved the first time.\n",
    "\n",
    "Below is the approach we will take to predict a Customer Service Agent or Contact Agents FCR metric:\n",
    "<ol>\n",
    "<li>Conduct Exploratory Data Analysis (EDA) on the real data from a global call center.</li>\n",
    "<li>Execute regression models to determine how accurately we can predict the FCR metric for each employee.</li>\n",
    "<li>Create a classification indicator to determine whether predicting an employee's increase or decrease in FCR metric performance is more meaningful than regression.</li>\n",
    "</ol>\n",
    "\n",
    "We will leverage a real-case data from a business process outsourcer (BPO) that supports many Fortune 500 companies. *Note: dataset has been sanitized of personal information as it is a real dataset.\n",
    "\n",
    "Let's get started!"
   ]
  },
  {
   "cell_type": "code",
   "execution_count": null,
   "metadata": {},
   "outputs": [],
   "source": []
  }
 ],
 "metadata": {
  "kernelspec": {
   "display_name": "Python 3.7.4 64-bit ('base': conda)",
   "language": "python",
   "name": "python37464bitbasecondae3181da28e34462192c213fe23e36ba9"
  },
  "language_info": {
   "codemirror_mode": {
    "name": "ipython",
    "version": 3
   },
   "file_extension": ".py",
   "mimetype": "text/x-python",
   "name": "python",
   "nbconvert_exporter": "python",
   "pygments_lexer": "ipython3",
   "version": "3.8.3"
  }
 },
 "nbformat": 4,
 "nbformat_minor": 4
}
